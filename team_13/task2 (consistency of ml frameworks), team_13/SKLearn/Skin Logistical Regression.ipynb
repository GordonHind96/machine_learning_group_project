{
 "cells": [
  {
   "cell_type": "code",
   "execution_count": 5,
   "metadata": {},
   "outputs": [
    {
     "name": "stdout",
     "output_type": "stream",
     "text": [
      "Accuracy score: 0.92\n",
      "Precision: 0.92\n"
     ]
    }
   ],
   "source": [
    "import numpy as np\n",
    "import pandas as pd\n",
    "import matplotlib.pyplot as plt\n",
    "from sklearn import linear_model, datasets, linear_model\n",
    "from sklearn.metrics import accuracy_score, precision_score, average_precision_score\n",
    "\n",
    "files=\"skin.csv\"\n",
    "set_sizes = [100,500,1000,5000,10000,50000,100000,500000,1000000,5000000,10000000,50000000,100000000]\n",
    "column_names = [\"Feature 1\",\"Feature 2\", \"Feature 3\",\"Target\"]\n",
    "\n",
    "nrows2 = set_sizes[9]\n",
    "dataframe = pd.read_csv(files,\n",
    "                             sep=',',header=0,names=column_names,usecols=[0,1,2,3],\n",
    "                             nrows =nrows2)\n",
    "\n",
    "\n",
    "\n",
    "X_train = dataframe.head(int(nrows2 * .7))\n",
    "Y_train = X_train.Target\n",
    "X_train = X_train[[\"Feature 1\",\"Feature 2\",\"Feature 3\"]]\n",
    "X_test = dataframe.tail(int(nrows2 * .3))\n",
    "Y_test = X_test.Target\n",
    "X_test = X_test[[\"Feature 1\", \"Feature 2\",\"Feature 3\"]]\n",
    "\n",
    "\n",
    "\n",
    "\n",
    "\n",
    "h = .02  # step size in the mesh\n",
    "\n",
    "logreg = linear_model.LogisticRegression(C=1e5)\n",
    "\n",
    "# we create an instance of Neighbours Classifier and fit the data.\n",
    "logreg.fit(X_train, Y_train)\n",
    "\n",
    "\n",
    "pred = logreg.predict(X_test)\n",
    "\n",
    "# The coefficients\n",
    "#print('Coefficients: \\n', clf.coef_)\n",
    "# The mean squared error\n",
    "t=accuracy_score(Y_test, pred)\n",
    "tt=precision_score(Y_test, pred, average='weighted')\n",
    "#print(Y_tester_targets.size)\n",
    "#print(pred_test.size)\n",
    "print('Accuracy score: %.2f' % t)\n",
    "print('Precision: %.2f'% tt)"
   ]
  },
  {
   "cell_type": "code",
   "execution_count": null,
   "metadata": {
    "collapsed": true
   },
   "outputs": [],
   "source": []
  }
 ],
 "metadata": {
  "kernelspec": {
   "display_name": "Python 3",
   "language": "python",
   "name": "python3"
  },
  "language_info": {
   "codemirror_mode": {
    "name": "ipython",
    "version": 3
   },
   "file_extension": ".py",
   "mimetype": "text/x-python",
   "name": "python",
   "nbconvert_exporter": "python",
   "pygments_lexer": "ipython3",
   "version": "3.6.1"
  }
 },
 "nbformat": 4,
 "nbformat_minor": 2
}
